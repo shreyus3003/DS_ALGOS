{
  "nbformat": 4,
  "nbformat_minor": 0,
  "metadata": {
    "colab": {
      "name": "Devops.ipynb",
      "provenance": [],
      "authorship_tag": "ABX9TyNZCTsWhzd3Ih1F713FPBu5",
      "include_colab_link": true
    },
    "kernelspec": {
      "name": "python3",
      "display_name": "Python 3"
    },
    "language_info": {
      "name": "python"
    }
  },
  "cells": [
    {
      "cell_type": "markdown",
      "metadata": {
        "id": "view-in-github",
        "colab_type": "text"
      },
      "source": [
        "<a href=\"https://colab.research.google.com/github/shreyus3003/DS_ALGOS/blob/main/Devops.ipynb\" target=\"_parent\"><img src=\"https://colab.research.google.com/assets/colab-badge.svg\" alt=\"Open In Colab\"/></a>"
      ]
    },
    {
      "cell_type": "code",
      "metadata": {
        "colab": {
          "base_uri": "https://localhost:8080/"
        },
        "id": "UH1YivoSUnRx",
        "outputId": "34ab9327-b975-46e7-ecbe-3750c233be82"
      },
      "source": [
        "class Node:\n",
        "  def __init__(self, key):\n",
        "    self.key = key\n",
        "    self.left = None\n",
        "    self.right = None\n",
        "\n",
        "def isMirror(root1, root2):\n",
        "  if root1 is None and root2 is None:\n",
        "    return True\n",
        "\n",
        "  if (root1 is not None and root2 is not None):\n",
        "    if root1.key == root2.key:\n",
        "      return (isMirror(root1.left, root2.right) and \n",
        "              isMirror(root1.right, root2.left))\n",
        "  \n",
        "  return False\n",
        "\n",
        "def isSymmetric(root):\n",
        "  return isMirror(root,root)\n",
        "\n",
        "root = Node(1)\n",
        "root.left = Node(2)\n",
        "root.right = Node(2)\n",
        "root.left.left = Node(3)\n",
        "root.left.right = Node(4)\n",
        "root.right.left = Node(4)\n",
        "root.right.right = Node(3)\n",
        "print(1) if isSymmetric(root) == True else \"0\""
      ],
      "execution_count": 2,
      "outputs": [
        {
          "output_type": "stream",
          "text": [
            "1\n"
          ],
          "name": "stdout"
        }
      ]
    },
    {
      "cell_type": "markdown",
      "metadata": {
        "id": "Jtpalql_Xbb9"
      },
      "source": [
        "#2. Max height of tree."
      ]
    },
    {
      "cell_type": "code",
      "metadata": {
        "colab": {
          "base_uri": "https://localhost:8080/"
        },
        "id": "FhenD2cKXezF",
        "outputId": "e4deb1d0-a27a-4b3f-f471-6f2691798041"
      },
      "source": [
        "class Node:\n",
        "  def __init__(self,key):\n",
        "    self.data = key\n",
        "    self.left = None\n",
        "    self.right = None\n",
        "\n",
        "def height(n):\n",
        "  if n == None:\n",
        "    return 0\n",
        "\n",
        "  return max(height(n.left), height(n.right)) +1\n",
        "\n",
        "node = Node(5)\n",
        "node.right = Node(2)\n",
        "node.left = Node(3)\n",
        "node.right.right = Node(1)\n",
        "node.right.right.right = Node(2)\n",
        "\n",
        "print(height(node))"
      ],
      "execution_count": 3,
      "outputs": [
        {
          "output_type": "stream",
          "text": [
            "4\n"
          ],
          "name": "stdout"
        }
      ]
    },
    {
      "cell_type": "code",
      "metadata": {
        "id": "5PWIRj2dXfOc"
      },
      "source": [
        ""
      ],
      "execution_count": null,
      "outputs": []
    },
    {
      "cell_type": "code",
      "metadata": {
        "id": "i9DZdDtLXfWC"
      },
      "source": [
        ""
      ],
      "execution_count": null,
      "outputs": []
    }
  ]
}